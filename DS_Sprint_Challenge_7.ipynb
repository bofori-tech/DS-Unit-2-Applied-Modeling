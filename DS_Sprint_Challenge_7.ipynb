{
  "nbformat": 4,
  "nbformat_minor": 0,
  "metadata": {
    "kernelspec": {
      "display_name": "Python 3",
      "language": "python",
      "name": "python3"
    },
    "language_info": {
      "codemirror_mode": {
        "name": "ipython",
        "version": 3
      },
      "file_extension": ".py",
      "mimetype": "text/x-python",
      "name": "python",
      "nbconvert_exporter": "python",
      "pygments_lexer": "ipython3",
      "version": "3.7.3"
    },
    "colab": {
      "name": "DS_Sprint_Challenge_7.ipynb",
      "provenance": [],
      "include_colab_link": true
    }
  },
  "cells": [
    {
      "cell_type": "markdown",
      "metadata": {
        "id": "view-in-github",
        "colab_type": "text"
      },
      "source": [
        "<a href=\"https://colab.research.google.com/github/bofori-tech/DS-Unit-2-Applied-Modeling/blob/master/DS_Sprint_Challenge_7.ipynb\" target=\"_parent\"><img src=\"https://colab.research.google.com/assets/colab-badge.svg\" alt=\"Open In Colab\"/></a>"
      ]
    },
    {
      "cell_type": "markdown",
      "metadata": {
        "id": "Kz9V5lVFMo86"
      },
      "source": [
        "_Lambda School Data Science, Unit 2_\n",
        "\n",
        "# Applied Modeling Sprint Challenge: Predict Chicago food inspections 🍕"
      ]
    },
    {
      "cell_type": "markdown",
      "metadata": {
        "id": "yWOjtM9iMo87"
      },
      "source": [
        "For this Sprint Challenge, you'll use a dataset with information from inspections of restaurants and other food establishments in Chicago from January 2010 to March 2019. \n",
        "\n",
        "[See this PDF](https://data.cityofchicago.org/api/assets/BAD5301B-681A-4202-9D25-51B2CAE672FF) for descriptions of the data elements included in this dataset.\n",
        "\n",
        "According to [Chicago Department of Public Health — Food Protection Services](https://www.chicago.gov/city/en/depts/cdph/provdrs/healthy_restaurants/svcs/food-protection-services.html), \"Chicago is home to 16,000 food establishments like restaurants, grocery stores, bakeries, wholesalers, lunchrooms, mobile food vendors and more. Our business is food safety and sanitation with one goal, to prevent the spread of food-borne disease. We do this by inspecting food businesses, responding to complaints and food recalls.\" "
      ]
    },
    {
      "cell_type": "markdown",
      "metadata": {
        "id": "VvBYdx2xMo88"
      },
      "source": [
        "#### Your challenge: Predict whether inspections failed\n",
        "\n",
        "The target is the `Fail` column.\n",
        "\n",
        "- When the food establishment failed the inspection, the target is `1`.\n",
        "- When the establishment passed, the target is `0`."
      ]
    },
    {
      "cell_type": "markdown",
      "metadata": {
        "id": "3YMtu4LaF8Jq"
      },
      "source": [
        "#### Run this cell to install packages in Colab:"
      ]
    },
    {
      "cell_type": "code",
      "metadata": {
        "id": "vWyiJKQgF6ax"
      },
      "source": [
        "%%capture\n",
        "import sys\n",
        "\n",
        "if 'google.colab' in sys.modules:\n",
        "    # Install packages in Colab\n",
        "    !pip install category_encoders==2.*\n",
        "    !pip install eli5\n",
        "    !pip install pandas-profiling==2.*\n",
        "    !pip install pdpbox\n",
        "    !pip install shap"
      ],
      "execution_count": 16,
      "outputs": []
    },
    {
      "cell_type": "markdown",
      "metadata": {
        "id": "Na5IvRq1Mo89"
      },
      "source": [
        "#### Run this cell to load the data:"
      ]
    },
    {
      "cell_type": "code",
      "metadata": {
        "id": "Yyc7zftTMo89"
      },
      "source": [
        "import pandas as pd\n",
        "\n",
        "train_url = 'https://drive.google.com/uc?export=download&id=13_tP9JpLcZHSPVpWcua4t2rY44K_s4H5'\n",
        "test_url  = 'https://drive.google.com/uc?export=download&id=1GkDHjsiGrzOXoF_xcYjdzBTSjOIi3g5a'\n",
        "\n",
        "train = pd.read_csv(train_url)\n",
        "test  = pd.read_csv(test_url)\n",
        "\n",
        "assert train.shape == (51916, 17)\n",
        "assert test.shape  == (17306, 17)"
      ],
      "execution_count": 4,
      "outputs": []
    },
    {
      "cell_type": "markdown",
      "metadata": {
        "id": "8EhbzqgfMo9A"
      },
      "source": [
        "### Part 1: Preprocessing\n",
        "\n",
        "You may choose which features you want to use, and whether/how you will preprocess them. If you use categorical features, you may use any tools and techniques for encoding.\n",
        "\n",
        "_To earn a score of 3 for this part, find and explain leakage. The dataset has a feature that will give you an ROC AUC score > 0.90 if you process and use the feature. Find the leakage and explain why the feature shouldn't be used in a real-world model to predict the results of future inspections._\n",
        "\n",
        "### Part 2: Modeling\n",
        "\n",
        "**Fit a model** with the train set. (You may use scikit-learn, xgboost, or any other library.) Use cross-validation or do a three-way split (train/validate/test) and **estimate your ROC AUC** validation score.\n",
        "\n",
        "Use your model to **predict probabilities** for the test set. **Get an ROC AUC test score >= 0.60.**\n",
        "\n",
        "_To earn a score of 3 for this part, get an ROC AUC test score >= 0.70 (without using the feature with leakage)._\n",
        "\n",
        "\n",
        "### Part 3: Visualization\n",
        "\n",
        "Make visualizations for model interpretation. (You may use any libraries.) Choose two of these types:\n",
        "\n",
        "- Confusion Matrix\n",
        "- Permutation Importances\n",
        "- Partial Dependence Plot, 1 feature isolation\n",
        "- Partial Dependence Plot, 2 features interaction\n",
        "- Shapley Values\n",
        "\n",
        "_To earn a score of 3 for this part, make four of these visualization types._"
      ]
    },
    {
      "cell_type": "markdown",
      "metadata": {
        "id": "muEIQ4EPGVH_"
      },
      "source": [
        "## Part 1: Preprocessing\n",
        "\n",
        "> You may choose which features you want to use, and whether/how you will preprocess them. If you use categorical features, you may use any tools and techniques for encoding."
      ]
    },
    {
      "cell_type": "code",
      "metadata": {
        "id": "uy2U2guLXOYz"
      },
      "source": [
        "import numpy as np\n",
        "import pandas as pd\n",
        "from sklearn.model_selection import train_test_split\n"
      ],
      "execution_count": 5,
      "outputs": []
    },
    {
      "cell_type": "code",
      "metadata": {
        "id": "C1-K65RjrBPP",
        "outputId": "37975f10-aedd-477e-f8a5-26c4f2cd6d7c",
        "colab": {
          "base_uri": "https://localhost:8080/",
          "height": 581
        }
      },
      "source": [
        "train.head()"
      ],
      "execution_count": 6,
      "outputs": [
        {
          "output_type": "execute_result",
          "data": {
            "text/html": [
              "<div>\n",
              "<style scoped>\n",
              "    .dataframe tbody tr th:only-of-type {\n",
              "        vertical-align: middle;\n",
              "    }\n",
              "\n",
              "    .dataframe tbody tr th {\n",
              "        vertical-align: top;\n",
              "    }\n",
              "\n",
              "    .dataframe thead th {\n",
              "        text-align: right;\n",
              "    }\n",
              "</style>\n",
              "<table border=\"1\" class=\"dataframe\">\n",
              "  <thead>\n",
              "    <tr style=\"text-align: right;\">\n",
              "      <th></th>\n",
              "      <th>Inspection ID</th>\n",
              "      <th>DBA Name</th>\n",
              "      <th>AKA Name</th>\n",
              "      <th>License #</th>\n",
              "      <th>Facility Type</th>\n",
              "      <th>Risk</th>\n",
              "      <th>Address</th>\n",
              "      <th>City</th>\n",
              "      <th>State</th>\n",
              "      <th>Zip</th>\n",
              "      <th>Inspection Date</th>\n",
              "      <th>Inspection Type</th>\n",
              "      <th>Violations</th>\n",
              "      <th>Latitude</th>\n",
              "      <th>Longitude</th>\n",
              "      <th>Location</th>\n",
              "      <th>Fail</th>\n",
              "    </tr>\n",
              "  </thead>\n",
              "  <tbody>\n",
              "    <tr>\n",
              "      <th>0</th>\n",
              "      <td>2088270</td>\n",
              "      <td>TOM YUM RICE &amp; NOODLE, INC.</td>\n",
              "      <td>TOM YUM CAFE</td>\n",
              "      <td>2354911.0</td>\n",
              "      <td>Restaurant</td>\n",
              "      <td>Risk 1 (High)</td>\n",
              "      <td>608 W BARRY</td>\n",
              "      <td>CHICAGO</td>\n",
              "      <td>IL</td>\n",
              "      <td>60657.0</td>\n",
              "      <td>2017-09-15T00:00:00</td>\n",
              "      <td>Canvass</td>\n",
              "      <td>3. POTENTIALLY HAZARDOUS FOOD MEETS TEMPERATUR...</td>\n",
              "      <td>41.938007</td>\n",
              "      <td>-87.644755</td>\n",
              "      <td>{'longitude': '-87.6447545707008', 'latitude':...</td>\n",
              "      <td>1</td>\n",
              "    </tr>\n",
              "    <tr>\n",
              "      <th>1</th>\n",
              "      <td>555268</td>\n",
              "      <td>FILLING STATION  &amp; CONVENIENCE  STORE</td>\n",
              "      <td>FILLING STATION  &amp; CONVENIENCE  STORE</td>\n",
              "      <td>1044901.0</td>\n",
              "      <td>Grocery Store</td>\n",
              "      <td>Risk 3 (Low)</td>\n",
              "      <td>6646-6658 S WESTERN AVE</td>\n",
              "      <td>CHICAGO</td>\n",
              "      <td>IL</td>\n",
              "      <td>60636.0</td>\n",
              "      <td>2011-10-20T00:00:00</td>\n",
              "      <td>Complaint Re-Inspection</td>\n",
              "      <td>32. FOOD AND NON-FOOD CONTACT SURFACES PROPERL...</td>\n",
              "      <td>41.772402</td>\n",
              "      <td>-87.683603</td>\n",
              "      <td>{'longitude': '-87.68360273081268', 'latitude'...</td>\n",
              "      <td>0</td>\n",
              "    </tr>\n",
              "    <tr>\n",
              "      <th>2</th>\n",
              "      <td>1751394</td>\n",
              "      <td>A P DELI</td>\n",
              "      <td>A P DELI</td>\n",
              "      <td>47405.0</td>\n",
              "      <td>Restaurant</td>\n",
              "      <td>Risk 1 (High)</td>\n",
              "      <td>2025 E 75TH ST</td>\n",
              "      <td>CHICAGO</td>\n",
              "      <td>IL</td>\n",
              "      <td>60649.0</td>\n",
              "      <td>2016-04-05T00:00:00</td>\n",
              "      <td>Canvass Re-Inspection</td>\n",
              "      <td>35. WALLS, CEILINGS, ATTACHED EQUIPMENT CONSTR...</td>\n",
              "      <td>41.758779</td>\n",
              "      <td>-87.575054</td>\n",
              "      <td>{'longitude': '-87.57505446746121', 'latitude'...</td>\n",
              "      <td>0</td>\n",
              "    </tr>\n",
              "    <tr>\n",
              "      <th>3</th>\n",
              "      <td>1763905</td>\n",
              "      <td>FRANK'S CHICAGO SHRIMP HOUSE</td>\n",
              "      <td>FRANK'S CHICAGO SHRIMP HOUSE</td>\n",
              "      <td>6414.0</td>\n",
              "      <td>Restaurant</td>\n",
              "      <td>Risk 2 (Medium)</td>\n",
              "      <td>4459 S ARCHER AVE</td>\n",
              "      <td>CHICAGO</td>\n",
              "      <td>IL</td>\n",
              "      <td>60632.0</td>\n",
              "      <td>2016-04-29T00:00:00</td>\n",
              "      <td>Canvass</td>\n",
              "      <td>38. VENTILATION: ROOMS AND EQUIPMENT VENTED AS...</td>\n",
              "      <td>41.812181</td>\n",
              "      <td>-87.707125</td>\n",
              "      <td>{'longitude': '-87.70712481334274', 'latitude'...</td>\n",
              "      <td>0</td>\n",
              "    </tr>\n",
              "    <tr>\n",
              "      <th>4</th>\n",
              "      <td>453326</td>\n",
              "      <td>MORRILL</td>\n",
              "      <td>MORRILL</td>\n",
              "      <td>24571.0</td>\n",
              "      <td>School</td>\n",
              "      <td>Risk 1 (High)</td>\n",
              "      <td>6011 S Rockwell (2600W) AVE</td>\n",
              "      <td>CHICAGO</td>\n",
              "      <td>IL</td>\n",
              "      <td>60629.0</td>\n",
              "      <td>2011-01-10T00:00:00</td>\n",
              "      <td>Canvass</td>\n",
              "      <td>34. FLOORS: CONSTRUCTED PER CODE, CLEANED, GOO...</td>\n",
              "      <td>NaN</td>\n",
              "      <td>NaN</td>\n",
              "      <td>NaN</td>\n",
              "      <td>0</td>\n",
              "    </tr>\n",
              "  </tbody>\n",
              "</table>\n",
              "</div>"
            ],
            "text/plain": [
              "   Inspection ID  ... Fail\n",
              "0        2088270  ...    1\n",
              "1         555268  ...    0\n",
              "2        1751394  ...    0\n",
              "3        1763905  ...    0\n",
              "4         453326  ...    0\n",
              "\n",
              "[5 rows x 17 columns]"
            ]
          },
          "metadata": {
            "tags": []
          },
          "execution_count": 6
        }
      ]
    },
    {
      "cell_type": "code",
      "metadata": {
        "id": "W1jaqD5QXqo1",
        "outputId": "d83fcc93-b4a8-46d7-a20d-7a2e47fc22fb",
        "colab": {
          "base_uri": "https://localhost:8080/",
          "height": 102
        }
      },
      "source": [
        "train.columns"
      ],
      "execution_count": 7,
      "outputs": [
        {
          "output_type": "execute_result",
          "data": {
            "text/plain": [
              "Index(['Inspection ID', 'DBA Name', 'AKA Name', 'License #', 'Facility Type',\n",
              "       'Risk', 'Address', 'City', 'State', 'Zip', 'Inspection Date',\n",
              "       'Inspection Type', 'Violations', 'Latitude', 'Longitude', 'Location',\n",
              "       'Fail'],\n",
              "      dtype='object')"
            ]
          },
          "metadata": {
            "tags": []
          },
          "execution_count": 7
        }
      ]
    },
    {
      "cell_type": "code",
      "metadata": {
        "id": "Ao1PDJtpIWwp",
        "outputId": "122a58f0-2c62-43a1-91db-d79f400d7238",
        "colab": {
          "base_uri": "https://localhost:8080/",
          "height": 34
        }
      },
      "source": [
        "# Split train into train & val\n",
        "train, val = train_test_split(train, train_size=0.80, test_size=0.20, \n",
        "                              stratify=train['Fail'], random_state=42)\n",
        "\n",
        "train.shape, val.shape, test.shape"
      ],
      "execution_count": 8,
      "outputs": [
        {
          "output_type": "execute_result",
          "data": {
            "text/plain": [
              "((41532, 17), (10384, 17), (17306, 17))"
            ]
          },
          "metadata": {
            "tags": []
          },
          "execution_count": 8
        }
      ]
    },
    {
      "cell_type": "code",
      "metadata": {
        "id": "5oj-tB-DYemc",
        "outputId": "e735001e-d065-4d3d-c566-0bfb1bdb708b",
        "colab": {
          "base_uri": "https://localhost:8080/",
          "height": 68
        }
      },
      "source": [
        "train['Fail'].value_counts()"
      ],
      "execution_count": 9,
      "outputs": [
        {
          "output_type": "execute_result",
          "data": {
            "text/plain": [
              "0    30791\n",
              "1    10741\n",
              "Name: Fail, dtype: int64"
            ]
          },
          "metadata": {
            "tags": []
          },
          "execution_count": 9
        }
      ]
    },
    {
      "cell_type": "code",
      "metadata": {
        "id": "DTaw_4XsauZb"
      },
      "source": [
        "target = 'Fail'\n",
        "features = train.columns.drop([target,'Violations'])\n",
        "X_train = train[features]\n",
        "y_train = train[target]\n",
        "X_val = val[features]\n",
        "y_val = val[target]"
      ],
      "execution_count": 10,
      "outputs": []
    },
    {
      "cell_type": "markdown",
      "metadata": {
        "id": "nB8CQnExGqzr"
      },
      "source": [
        "## Part 2: Modeling\n",
        "\n",
        "> **Fit a model** with the train set. (You may use scikit-learn, xgboost, or any other library.) Use cross-validation or do a three-way split (train/validate/test) and **estimate your ROC AUC** validation score.\n",
        ">\n",
        "> Use your model to **predict probabilities** for the test set. **Get an ROC AUC test score >= 0.60.**"
      ]
    },
    {
      "cell_type": "code",
      "metadata": {
        "id": "YQ3hD2G1IbVH",
        "outputId": "9f8d08e0-a0a7-4898-94d0-f0240957e25f",
        "colab": {
          "base_uri": "https://localhost:8080/",
          "height": 88
        }
      },
      "source": [
        "import category_encoders as ce\n",
        "from sklearn.impute import SimpleImputer\n",
        "from sklearn.ensemble import RandomForestClassifier\n",
        "from sklearn.pipeline import make_pipeline\n",
        "\n",
        "pipeline = make_pipeline(\n",
        "    ce.OrdinalEncoder(), \n",
        "    SimpleImputer(strategy='median'), \n",
        "    RandomForestClassifier(n_estimators=100, random_state=42, n_jobs=-1)\n",
        ")\n",
        "\n",
        "# Fit on train, score on val\n",
        "pipeline.fit(X_train, y_train)\n",
        "print('Validation Accuracy', pipeline.score(X_val, y_val))"
      ],
      "execution_count": 11,
      "outputs": [
        {
          "output_type": "stream",
          "text": [
            "/usr/local/lib/python3.6/dist-packages/statsmodels/tools/_testing.py:19: FutureWarning: pandas.util.testing is deprecated. Use the functions in the public API at pandas.testing instead.\n",
            "  import pandas.util.testing as tm\n"
          ],
          "name": "stderr"
        },
        {
          "output_type": "stream",
          "text": [
            "Validation Accuracy 0.7486517719568567\n"
          ],
          "name": "stdout"
        }
      ]
    },
    {
      "cell_type": "code",
      "metadata": {
        "id": "S1evEl79ELe4",
        "outputId": "f9f100d3-70ef-46d0-c3f3-106560783260",
        "colab": {
          "base_uri": "https://localhost:8080/",
          "height": 607
        }
      },
      "source": [
        "# Get feature importances\n",
        "rf = pipeline.named_steps['randomforestclassifier']\n",
        "importances = pd.Series(rf.feature_importances_, X_train.columns)\n",
        "\n",
        "# Plot feature importances\n",
        "%matplotlib inline\n",
        "import matplotlib.pyplot as plt\n",
        "\n",
        "n = 20\n",
        "plt.figure(figsize=(10,n/2))\n",
        "plt.title(f'Top {n} features')\n",
        "importances.sort_values()[-n:].plot.barh(color='grey');"
      ],
      "execution_count": 18,
      "outputs": [
        {
          "output_type": "display_data",
          "data": {
            "image/png": "[encoded data removed]",
            "text/plain": [
              "<Figure size 720x720 with 1 Axes>"
            ]
          },
          "metadata": {
            "tags": [],
            "needs_background": "light"
          }
        }
      ]
    },
    {
      "cell_type": "code",
      "metadata": {
        "id": "FAqjqKBPIWPv",
        "outputId": "2b1560b8-9dee-4085-8826-f6e13133681e",
        "colab": {
          "base_uri": "https://localhost:8080/",
          "height": 34
        }
      },
      "source": [
        "from xgboost import XGBClassifier\n",
        "from sklearn.metrics import accuracy_score\n",
        "pipeline = make_pipeline(\n",
        "    ce.OrdinalEncoder(), \n",
        "    XGBClassifier(n_estimators=100, random_state=42, n_jobs=-1)\n",
        ")\n",
        "pipeline.fit(X_train, y_train)\n",
        "y_pred = pipeline.predict(X_val)\n",
        "print('Validation Accuracy', accuracy_score(y_val, y_pred))"
      ],
      "execution_count": 21,
      "outputs": [
        {
          "output_type": "stream",
          "text": [
            "Validation Accuracy 0.7513482280431433\n"
          ],
          "name": "stdout"
        }
      ]
    },
    {
      "cell_type": "code",
      "metadata": {
        "id": "8szEtydfu3n3"
      },
      "source": [
        "from sklearn.metrics import roc_auc_score\n",
        "from sklearn.metrics import roc_curve\n",
        "y_pred_proba = pipeline.predict_proba(X_val)[:,1]\n",
        "fpr, tpr, thresholds = roc_curve(y_val, y_pred_proba)"
      ],
      "execution_count": 27,
      "outputs": []
    },
    {
      "cell_type": "code",
      "metadata": {
        "id": "qWelRtnoKheb",
        "outputId": "343b2ce9-fc86-4dd7-d6a2-92b641ee5069",
        "colab": {
          "base_uri": "https://localhost:8080/",
          "height": 34
        }
      },
      "source": [
        "print('Validation Accuracy', roc_auc_score(y_val, y_pred_proba))"
      ],
      "execution_count": 31,
      "outputs": [
        {
          "output_type": "stream",
          "text": [
            "Validation Accuracy 0.694965608970475\n"
          ],
          "name": "stdout"
        }
      ]
    },
    {
      "cell_type": "code",
      "metadata": {
        "id": "P2LSn4kC7ED7",
        "outputId": "dbb8bd5a-d812-4436-91f8-19204ed9fb5a",
        "colab": {
          "base_uri": "https://localhost:8080/",
          "height": 419
        }
      },
      "source": [
        "# See the results in a table\n",
        "pd.DataFrame({\n",
        "    'False Positive Rate': fpr, \n",
        "    'True Positive Rate': tpr, \n",
        "    'Threshold': thresholds\n",
        "})"
      ],
      "execution_count": 14,
      "outputs": [
        {
          "output_type": "execute_result",
          "data": {
            "text/html": [
              "<div>\n",
              "<style scoped>\n",
              "    .dataframe tbody tr th:only-of-type {\n",
              "        vertical-align: middle;\n",
              "    }\n",
              "\n",
              "    .dataframe tbody tr th {\n",
              "        vertical-align: top;\n",
              "    }\n",
              "\n",
              "    .dataframe thead th {\n",
              "        text-align: right;\n",
              "    }\n",
              "</style>\n",
              "<table border=\"1\" class=\"dataframe\">\n",
              "  <thead>\n",
              "    <tr style=\"text-align: right;\">\n",
              "      <th></th>\n",
              "      <th>False Positive Rate</th>\n",
              "      <th>True Positive Rate</th>\n",
              "      <th>Threshold</th>\n",
              "    </tr>\n",
              "  </thead>\n",
              "  <tbody>\n",
              "    <tr>\n",
              "      <th>0</th>\n",
              "      <td>0.000000</td>\n",
              "      <td>0.000000</td>\n",
              "      <td>2.00</td>\n",
              "    </tr>\n",
              "    <tr>\n",
              "      <th>1</th>\n",
              "      <td>0.000000</td>\n",
              "      <td>0.000372</td>\n",
              "      <td>1.00</td>\n",
              "    </tr>\n",
              "    <tr>\n",
              "      <th>2</th>\n",
              "      <td>0.000000</td>\n",
              "      <td>0.001862</td>\n",
              "      <td>0.89</td>\n",
              "    </tr>\n",
              "    <tr>\n",
              "      <th>3</th>\n",
              "      <td>0.000260</td>\n",
              "      <td>0.003352</td>\n",
              "      <td>0.86</td>\n",
              "    </tr>\n",
              "    <tr>\n",
              "      <th>4</th>\n",
              "      <td>0.000260</td>\n",
              "      <td>0.004097</td>\n",
              "      <td>0.85</td>\n",
              "    </tr>\n",
              "    <tr>\n",
              "      <th>...</th>\n",
              "      <td>...</td>\n",
              "      <td>...</td>\n",
              "      <td>...</td>\n",
              "    </tr>\n",
              "    <tr>\n",
              "      <th>85</th>\n",
              "      <td>0.963632</td>\n",
              "      <td>0.988454</td>\n",
              "      <td>0.04</td>\n",
              "    </tr>\n",
              "    <tr>\n",
              "      <th>86</th>\n",
              "      <td>0.980257</td>\n",
              "      <td>0.994786</td>\n",
              "      <td>0.03</td>\n",
              "    </tr>\n",
              "    <tr>\n",
              "      <th>87</th>\n",
              "      <td>0.992986</td>\n",
              "      <td>0.999255</td>\n",
              "      <td>0.02</td>\n",
              "    </tr>\n",
              "    <tr>\n",
              "      <th>88</th>\n",
              "      <td>0.997792</td>\n",
              "      <td>1.000000</td>\n",
              "      <td>0.01</td>\n",
              "    </tr>\n",
              "    <tr>\n",
              "      <th>89</th>\n",
              "      <td>1.000000</td>\n",
              "      <td>1.000000</td>\n",
              "      <td>0.00</td>\n",
              "    </tr>\n",
              "  </tbody>\n",
              "</table>\n",
              "<p>90 rows × 3 columns</p>\n",
              "</div>"
            ],
            "text/plain": [
              "    False Positive Rate  True Positive Rate  Threshold\n",
              "0              0.000000            0.000000       2.00\n",
              "1              0.000000            0.000372       1.00\n",
              "2              0.000000            0.001862       0.89\n",
              "3              0.000260            0.003352       0.86\n",
              "4              0.000260            0.004097       0.85\n",
              "..                  ...                 ...        ...\n",
              "85             0.963632            0.988454       0.04\n",
              "86             0.980257            0.994786       0.03\n",
              "87             0.992986            0.999255       0.02\n",
              "88             0.997792            1.000000       0.01\n",
              "89             1.000000            1.000000       0.00\n",
              "\n",
              "[90 rows x 3 columns]"
            ]
          },
          "metadata": {
            "tags": []
          },
          "execution_count": 14
        }
      ]
    },
    {
      "cell_type": "code",
      "metadata": {
        "id": "JXHgHmxS7MD8",
        "outputId": "e2061c4b-cf4c-411e-8e67-cdc6a637eacc",
        "colab": {
          "base_uri": "https://localhost:8080/",
          "height": 295
        }
      },
      "source": [
        "import matplotlib.pyplot as plt\n",
        "plt.scatter(fpr, tpr)\n",
        "plt.plot(fpr, tpr)\n",
        "plt.title('ROC curve')\n",
        "plt.xlabel('False Positive Rate')\n",
        "plt.ylabel('True Positive Rate');"
      ],
      "execution_count": 15,
      "outputs": [
        {
          "output_type": "display_data",
          "data": {
            "image/png": "[encoded data removed]",
            "text/plain": [
              "<Figure size 432x288 with 1 Axes>"
            ]
          },
          "metadata": {
            "tags": [],
            "needs_background": "light"
          }
        }
      ]
    },
    {
      "cell_type": "markdown",
      "metadata": {
        "id": "u98nLGBTMo9s"
      },
      "source": [
        "## Part 3: Visualization\n",
        "\n",
        "> Make visualizations for model interpretation. (You may use any libraries.) Choose two of these types:\n",
        ">\n",
        "> - Permutation Importances\n",
        "> - Partial Dependence Plot, 1 feature isolation\n",
        "> - Partial Dependence Plot, 2 features interaction\n",
        "> - Shapley Values"
      ]
    },
    {
      "cell_type": "code",
      "metadata": {
        "id": "4L302lBbUcNx",
        "outputId": "bdd1121f-1206-4b76-8856-8a0d1c0ef660",
        "colab": {
          "base_uri": "https://localhost:8080/",
          "height": 153
        }
      },
      "source": [
        "transformers = make_pipeline(\n",
        "    ce.OrdinalEncoder(), \n",
        "    SimpleImputer(strategy='median')\n",
        ")\n",
        "\n",
        "X_train_transformed = transformers.fit_transform(X_train)\n",
        "X_val_transformed = transformers.transform(X_val)\n",
        "\n",
        "model = RandomForestClassifier(n_estimators=100, random_state=42, n_jobs=-1)\n",
        "model.fit(X_train_transformed, y_train)"
      ],
      "execution_count": 49,
      "outputs": [
        {
          "output_type": "execute_result",
          "data": {
            "text/plain": [
              "RandomForestClassifier(bootstrap=True, ccp_alpha=0.0, class_weight=None,\n",
              "                       criterion='gini', max_depth=None, max_features='auto',\n",
              "                       max_leaf_nodes=None, max_samples=None,\n",
              "                       min_impurity_decrease=0.0, min_impurity_split=None,\n",
              "                       min_samples_leaf=1, min_samples_split=2,\n",
              "                       min_weight_fraction_leaf=0.0, n_estimators=100,\n",
              "                       n_jobs=-1, oob_score=False, random_state=42, verbose=0,\n",
              "                       warm_start=False)"
            ]
          },
          "metadata": {
            "tags": []
          },
          "execution_count": 49
        }
      ]
    },
    {
      "cell_type": "code",
      "metadata": {
        "id": "zlD8NiMbUkMi",
        "outputId": "806254f2-a5ef-4f40-c217-9e2946389c81",
        "colab": {
          "base_uri": "https://localhost:8080/",
          "height": 391
        }
      },
      "source": [
        "import eli5\n",
        "from eli5.sklearn import PermutationImportance\n",
        "permuter = PermutationImportance(\n",
        "    model, \n",
        "    scoring='accuracy', \n",
        "    n_iter=5, \n",
        "    random_state=42\n",
        ")\n",
        "permuter.fit(X_val_transformed, y_val)"
      ],
      "execution_count": 50,
      "outputs": [
        {
          "output_type": "execute_result",
          "data": {
            "text/plain": [
              "PermutationImportance(cv='prefit',\n",
              "                      estimator=RandomForestClassifier(bootstrap=True,\n",
              "                                                       ccp_alpha=0.0,\n",
              "                                                       class_weight=None,\n",
              "                                                       criterion='gini',\n",
              "                                                       max_depth=None,\n",
              "                                                       max_features='auto',\n",
              "                                                       max_leaf_nodes=None,\n",
              "                                                       max_samples=None,\n",
              "                                                       min_impurity_decrease=0.0,\n",
              "                                                       min_impurity_split=None,\n",
              "                                                       min_samples_leaf=1,\n",
              "                                                       min_samples_split=2,\n",
              "                                                       min_weight_fraction_leaf=0.0,\n",
              "                                                       n_estimators=100,\n",
              "                                                       n_jobs=-1,\n",
              "                                                       oob_score=False,\n",
              "                                                       random_state=42,\n",
              "                                                       verbose=0,\n",
              "                                                       warm_start=False),\n",
              "                      n_iter=5, random_state=42, refit=True,\n",
              "                      scoring='accuracy')"
            ]
          },
          "metadata": {
            "tags": []
          },
          "execution_count": 50
        }
      ]
    },
    {
      "cell_type": "code",
      "metadata": {
        "id": "wnyxFf7XU3AB",
        "outputId": "64809a74-69d6-497c-aba5-ac3aab3f4736",
        "colab": {
          "base_uri": "https://localhost:8080/",
          "height": 289
        }
      },
      "source": [
        "feature_names = X_val.columns.tolist()\n",
        "pd.Series(permuter.feature_importances_, feature_names).sort_values()"
      ],
      "execution_count": 51,
      "outputs": [
        {
          "output_type": "execute_result",
          "data": {
            "text/plain": [
              "AKA Name          -0.005971\n",
              "DBA Name          -0.005663\n",
              "Location          -0.003717\n",
              "Address           -0.003409\n",
              "Longitude         -0.001002\n",
              "Risk              -0.000809\n",
              "Inspection Date   -0.000713\n",
              "Zip               -0.000250\n",
              "City               0.000000\n",
              "State              0.000000\n",
              "Latitude           0.001810\n",
              "Facility Type      0.002022\n",
              "License #          0.003139\n",
              "Inspection ID      0.020243\n",
              "Inspection Type    0.033051\n",
              "dtype: float64"
            ]
          },
          "metadata": {
            "tags": []
          },
          "execution_count": 51
        }
      ]
    },
    {
      "cell_type": "code",
      "metadata": {
        "id": "9sWVSdP4VIRz",
        "outputId": "b5789174-f233-44a4-f902-2336f15e490b",
        "colab": {
          "base_uri": "https://localhost:8080/",
          "height": 289
        }
      },
      "source": [
        "eli5.show_weights(\n",
        "    permuter, \n",
        "    top=None, # No limit: show permutation importances for all features\n",
        "    feature_names=feature_names # must be a list\n",
        ")"
      ],
      "execution_count": 52,
      "outputs": [
        {
          "output_type": "execute_result",
          "data": {
            "text/html": [
              "\n",
              "    <style>\n",
              "    table.eli5-weights tr:hover {\n",
              "        filter: brightness(85%);\n",
              "    }\n",
              "</style>\n",
              "\n",
              "\n",
              "\n",
              "    \n",
              "\n",
              "    \n",
              "\n",
              "    \n",
              "\n",
              "    \n",
              "\n",
              "    \n",
              "\n",
              "    \n",
              "\n",
              "\n",
              "    \n",
              "\n",
              "    \n",
              "\n",
              "    \n",
              "\n",
              "    \n",
              "\n",
              "    \n",
              "\n",
              "    \n",
              "\n",
              "\n",
              "    \n",
              "\n",
              "    \n",
              "\n",
              "    \n",
              "\n",
              "    \n",
              "\n",
              "    \n",
              "        <table class=\"eli5-weights eli5-feature-importances\" style=\"border-collapse: collapse; border: none; margin-top: 0em; table-layout: auto;\">\n",
              "    <thead>\n",
              "    <tr style=\"border: none;\">\n",
              "        <th style=\"padding: 0 1em 0 0.5em; text-align: right; border: none;\">Weight</th>\n",
              "        <th style=\"padding: 0 0.5em 0 0.5em; text-align: left; border: none;\">Feature</th>\n",
              "    </tr>\n",
              "    </thead>\n",
              "    <tbody>\n",
              "    \n",
              "        <tr style=\"background-color: hsl(120, 100.00%, 80.00%); border: none;\">\n",
              "            <td style=\"padding: 0 1em 0 0.5em; text-align: right; border: none;\">\n",
              "                0.0331\n",
              "                \n",
              "                    &plusmn; 0.0028\n",
              "                \n",
              "            </td>\n",
              "            <td style=\"padding: 0 0.5em 0 0.5em; text-align: left; border: none;\">\n",
              "                Inspection Type\n",
              "            </td>\n",
              "        </tr>\n",
              "    \n",
              "        <tr style=\"background-color: hsl(120, 100.00%, 85.81%); border: none;\">\n",
              "            <td style=\"padding: 0 1em 0 0.5em; text-align: right; border: none;\">\n",
              "                0.0202\n",
              "                \n",
              "                    &plusmn; 0.0036\n",
              "                \n",
              "            </td>\n",
              "            <td style=\"padding: 0 0.5em 0 0.5em; text-align: left; border: none;\">\n",
              "                Inspection ID\n",
              "            </td>\n",
              "        </tr>\n",
              "    \n",
              "        <tr style=\"background-color: hsl(120, 100.00%, 96.15%); border: none;\">\n",
              "            <td style=\"padding: 0 1em 0 0.5em; text-align: right; border: none;\">\n",
              "                0.0031\n",
              "                \n",
              "                    &plusmn; 0.0040\n",
              "                \n",
              "            </td>\n",
              "            <td style=\"padding: 0 0.5em 0 0.5em; text-align: left; border: none;\">\n",
              "                License #\n",
              "            </td>\n",
              "        </tr>\n",
              "    \n",
              "        <tr style=\"background-color: hsl(120, 100.00%, 97.17%); border: none;\">\n",
              "            <td style=\"padding: 0 1em 0 0.5em; text-align: right; border: none;\">\n",
              "                0.0020\n",
              "                \n",
              "                    &plusmn; 0.0022\n",
              "                \n",
              "            </td>\n",
              "            <td style=\"padding: 0 0.5em 0 0.5em; text-align: left; border: none;\">\n",
              "                Facility Type\n",
              "            </td>\n",
              "        </tr>\n",
              "    \n",
              "        <tr style=\"background-color: hsl(120, 100.00%, 97.38%); border: none;\">\n",
              "            <td style=\"padding: 0 1em 0 0.5em; text-align: right; border: none;\">\n",
              "                0.0018\n",
              "                \n",
              "                    &plusmn; 0.0039\n",
              "                \n",
              "            </td>\n",
              "            <td style=\"padding: 0 0.5em 0 0.5em; text-align: left; border: none;\">\n",
              "                Latitude\n",
              "            </td>\n",
              "        </tr>\n",
              "    \n",
              "        <tr style=\"background-color: hsl(0, 100.00%, 100.00%); border: none;\">\n",
              "            <td style=\"padding: 0 1em 0 0.5em; text-align: right; border: none;\">\n",
              "                0\n",
              "                \n",
              "                    &plusmn; 0.0000\n",
              "                \n",
              "            </td>\n",
              "            <td style=\"padding: 0 0.5em 0 0.5em; text-align: left; border: none;\">\n",
              "                State\n",
              "            </td>\n",
              "        </tr>\n",
              "    \n",
              "        <tr style=\"background-color: hsl(0, 100.00%, 100.00%); border: none;\">\n",
              "            <td style=\"padding: 0 1em 0 0.5em; text-align: right; border: none;\">\n",
              "                0.0000\n",
              "                \n",
              "                    &plusmn; 0.0001\n",
              "                \n",
              "            </td>\n",
              "            <td style=\"padding: 0 0.5em 0 0.5em; text-align: left; border: none;\">\n",
              "                City\n",
              "            </td>\n",
              "        </tr>\n",
              "    \n",
              "        <tr style=\"background-color: hsl(0, 100.00%, 99.34%); border: none;\">\n",
              "            <td style=\"padding: 0 1em 0 0.5em; text-align: right; border: none;\">\n",
              "                -0.0003\n",
              "                \n",
              "                    &plusmn; 0.0025\n",
              "                \n",
              "            </td>\n",
              "            <td style=\"padding: 0 0.5em 0 0.5em; text-align: left; border: none;\">\n",
              "                Zip\n",
              "            </td>\n",
              "        </tr>\n",
              "    \n",
              "        <tr style=\"background-color: hsl(0, 100.00%, 98.64%); border: none;\">\n",
              "            <td style=\"padding: 0 1em 0 0.5em; text-align: right; border: none;\">\n",
              "                -0.0007\n",
              "                \n",
              "                    &plusmn; 0.0025\n",
              "                \n",
              "            </td>\n",
              "            <td style=\"padding: 0 0.5em 0 0.5em; text-align: left; border: none;\">\n",
              "                Inspection Date\n",
              "            </td>\n",
              "        </tr>\n",
              "    \n",
              "        <tr style=\"background-color: hsl(0, 100.00%, 98.51%); border: none;\">\n",
              "            <td style=\"padding: 0 1em 0 0.5em; text-align: right; border: none;\">\n",
              "                -0.0008\n",
              "                \n",
              "                    &plusmn; 0.0016\n",
              "                \n",
              "            </td>\n",
              "            <td style=\"padding: 0 0.5em 0 0.5em; text-align: left; border: none;\">\n",
              "                Risk\n",
              "            </td>\n",
              "        </tr>\n",
              "    \n",
              "        <tr style=\"background-color: hsl(0, 100.00%, 98.27%); border: none;\">\n",
              "            <td style=\"padding: 0 1em 0 0.5em; text-align: right; border: none;\">\n",
              "                -0.0010\n",
              "                \n",
              "                    &plusmn; 0.0013\n",
              "                \n",
              "            </td>\n",
              "            <td style=\"padding: 0 0.5em 0 0.5em; text-align: left; border: none;\">\n",
              "                Longitude\n",
              "            </td>\n",
              "        </tr>\n",
              "    \n",
              "        <tr style=\"background-color: hsl(0, 100.00%, 95.92%); border: none;\">\n",
              "            <td style=\"padding: 0 1em 0 0.5em; text-align: right; border: none;\">\n",
              "                -0.0034\n",
              "                \n",
              "                    &plusmn; 0.0028\n",
              "                \n",
              "            </td>\n",
              "            <td style=\"padding: 0 0.5em 0 0.5em; text-align: left; border: none;\">\n",
              "                Address\n",
              "            </td>\n",
              "        </tr>\n",
              "    \n",
              "        <tr style=\"background-color: hsl(0, 100.00%, 95.67%); border: none;\">\n",
              "            <td style=\"padding: 0 1em 0 0.5em; text-align: right; border: none;\">\n",
              "                -0.0037\n",
              "                \n",
              "                    &plusmn; 0.0030\n",
              "                \n",
              "            </td>\n",
              "            <td style=\"padding: 0 0.5em 0 0.5em; text-align: left; border: none;\">\n",
              "                Location\n",
              "            </td>\n",
              "        </tr>\n",
              "    \n",
              "        <tr style=\"background-color: hsl(0, 100.00%, 94.18%); border: none;\">\n",
              "            <td style=\"padding: 0 1em 0 0.5em; text-align: right; border: none;\">\n",
              "                -0.0057\n",
              "                \n",
              "                    &plusmn; 0.0011\n",
              "                \n",
              "            </td>\n",
              "            <td style=\"padding: 0 0.5em 0 0.5em; text-align: left; border: none;\">\n",
              "                DBA Name\n",
              "            </td>\n",
              "        </tr>\n",
              "    \n",
              "        <tr style=\"background-color: hsl(0, 100.00%, 93.96%); border: none;\">\n",
              "            <td style=\"padding: 0 1em 0 0.5em; text-align: right; border: none;\">\n",
              "                -0.0060\n",
              "                \n",
              "                    &plusmn; 0.0036\n",
              "                \n",
              "            </td>\n",
              "            <td style=\"padding: 0 0.5em 0 0.5em; text-align: left; border: none;\">\n",
              "                AKA Name\n",
              "            </td>\n",
              "        </tr>\n",
              "    \n",
              "    \n",
              "    </tbody>\n",
              "</table>\n",
              "    \n",
              "\n",
              "    \n",
              "\n",
              "\n",
              "    \n",
              "\n",
              "    \n",
              "\n",
              "    \n",
              "\n",
              "    \n",
              "\n",
              "    \n",
              "\n",
              "    \n",
              "\n",
              "\n",
              "\n"
            ],
            "text/plain": [
              "<IPython.core.display.HTML object>"
            ]
          },
          "metadata": {
            "tags": []
          },
          "execution_count": 52
        }
      ]
    },
    {
      "cell_type": "code",
      "metadata": {
        "id": "_Q379i5CIeKY"
      },
      "source": [
        "import matplotlib.pyplot as plt\n",
        "plt.rcParams['figure.dpi'] = 72\n",
        "from pdpbox.pdp import pdp_isolate, pdp_plot\n",
        "\n",
        "feature = 'Inspection ID'\n",
        "\n",
        "isolated = pdp_isolate(\n",
        "    model=pipeline, \n",
        "    dataset=X_val, \n",
        "    model_features=X_val.columns, \n",
        "    feature=feature\n",
        ")"
      ],
      "execution_count": 34,
      "outputs": []
    },
    {
      "cell_type": "code",
      "metadata": {
        "id": "RVuARtAJPbt0",
        "outputId": "3f6fd1fc-ae63-4ff4-e4a3-e00bd56051cf",
        "colab": {
          "base_uri": "https://localhost:8080/",
          "height": 646
        }
      },
      "source": [
        "pdp_plot(isolated, feature_name=feature);"
      ],
      "execution_count": 35,
      "outputs": [
        {
          "output_type": "stream",
          "text": [
            "findfont: Font family ['Arial'] not found. Falling back to DejaVu Sans.\n",
            "findfont: Font family ['Arial'] not found. Falling back to DejaVu Sans.\n",
            "findfont: Font family ['Arial'] not found. Falling back to DejaVu Sans.\n",
            "findfont: Font family ['Arial'] not found. Falling back to DejaVu Sans.\n"
          ],
          "name": "stderr"
        },
        {
          "output_type": "display_data",
          "data": {
            "image/png": "[encoded data removed]",
            "text/plain": [
              "<Figure size 1080x684 with 2 Axes>"
            ]
          },
          "metadata": {
            "tags": [],
            "needs_background": "light"
          }
        }
      ]
    },
    {
      "cell_type": "code",
      "metadata": {
        "id": "r7NxilG1T27G"
      },
      "source": [
        ""
      ],
      "execution_count": null,
      "outputs": []
    }
  ]
}